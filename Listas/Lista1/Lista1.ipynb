{
  "cells": [
    {
      "cell_type": "markdown",
      "metadata": {
        "id": "HkfKfzCUqbUj"
      },
      "source": [
        "# Lista 1 de Python\n",
        "\n",
        "## Modulo locale\n",
        "\n",
        "```\n",
        "      import locale\n",
        "```\n",
        "\n",
        "> O módulo locale abre o acesso ao banco de dados de localidade POSIX e funcionalidade. O mecanismo de localidade POSIX permite que os programadores lidem com certas questões culturais em uma aplicação, sem exigir que o programador conheça todas as especificidades de cada país onde o software é executado.\n",
        "\n",
        "### locale.setlocale(category, locale=None)\n",
        "\n",
        "> Se locale for fornecido e não None, setlocale() modifica a configuração de locale para a category. As categorias disponíveis estão listadas na descrição dos dados abaixo.\n",
        "\n",
        "> category = LC_MONETARY: Categoria da localidade para formatação de valores monetários.\n",
        "\n",
        "### locale.currency(val, symbol=True, grouping=False, international=False)\n",
        "\n",
        "> Formata um número val de acordo com as configurações atuais de LC_MONETARY.\n",
        "\n",
        "## Modulo OS\n",
        "\n",
        "```\n",
        "      from os import system\n",
        "```\n",
        "\n",
        "> Este módulo fornece uma maneira simples de usar funcionalidades que são dependentes de sistema operacional.\n",
        "\n",
        "### os.system()\n",
        "\n",
        "> Executa o comando (uma string) em um subshell. Isso é implementado chamando a função C padrão system(), e tem as mesmas limitações.\n",
        "\n",
        "## Módulo SYS\n",
        "\n",
        "```\n",
        "     from sys import platform\n",
        "```\n",
        "\n",
        "> Este módulo fornece acesso a algumas variáveis usadas ou mantidas pelo interpretador e a funções que interagem fortemente com o interpretador. Sempre disponível.\n",
        "\n",
        "### sys.platform\n",
        "\n",
        "> Esta string contém um identificador de plataforma que pode ser usado para anexar componentes específicos da plataforma."
      ]
    },
    {
      "cell_type": "code",
      "execution_count": 1,
      "metadata": {
        "colab": {
          "base_uri": "https://localhost:8080/"
        },
        "id": "YRyhUz7oqZFQ",
        "outputId": "55e0f0d3-fb1e-47c5-ac40-aa7777381e4c"
      },
      "outputs": [
        {
          "name": "stdout",
          "output_type": "stream",
          "text": [
            "\n",
            "1 dia    = 86.400 segundos\n",
            "1 hora   = 3.600  segundos\n",
            "1 minuto = 60     segundos\n",
            "\n",
            "5 dias, 4 horas, 56 minutos e 45 seguntos tem 449805 segundos.\n"
          ]
        }
      ],
      "source": [
        "\"\"\" \n",
        "1- Escreva um programa que leia a quantidade de dias, horas, minutos e \n",
        "segundos do usuário. Calcule e imprima o total em segundos.\n",
        "\"\"\"\n",
        "dias = int(input(\"Informe a quantidade de dia:: \"))\n",
        "horas = int(input(\"Informe a quantidade de horas:: \"))\n",
        "minutos = int(input(\"Informe a quantidade de minutos:: \"))\n",
        "segundos = int(input(\"Informe a quantidade de segundos:: \"))\n",
        "\n",
        "print(\"\"\"\n",
        "1 dia    = 86.400 segundos\n",
        "1 hora   = 3.600  segundos\n",
        "1 minuto = 60     segundos\n",
        "\"\"\")\n",
        "\n",
        "totalSegundos = dias * 86400 + horas * 3600 + minutos * 60 + segundos \n",
        "\n",
        "print(f\"{dias} dias, {horas} horas, {minutos} minutos e {segundos} seguntos tem {totalSegundos} segundos.\")\n"
      ]
    },
    {
      "cell_type": "code",
      "execution_count": 2,
      "metadata": {
        "colab": {
          "base_uri": "https://localhost:8080/"
        },
        "id": "PypKSiZKuflt",
        "outputId": "2584e58e-f9a9-428f-bc28-4381e59cd6cf"
      },
      "outputs": [
        {
          "name": "stdout",
          "output_type": "stream",
          "text": [
            "Informe seu salário e veja se você deve ou não pagar imposto\n",
            "Você precisa pagar seu imposto!\n",
            "Obrigado!\n",
            "A receita federal agradece!\n",
            "FIM\n"
          ]
        }
      ],
      "source": [
        "\"\"\"\n",
        "2 - Escreva uma expressão para determinar se uma pessoa deve ou não pagar imposto.\n",
        "Considere que pagam imposto cujo salário é maior que R$1.200.\n",
        "\"\"\"\n",
        "\n",
        "print(\"Informe seu salário e veja se você deve ou não pagar imposto\")\n",
        "input(\"Aperte enter para continuar\")\n",
        "\n",
        "while True:\n",
        "  opcao = input(\"Deseja verificar seu imposto:[s - sim e n - não]\").strip()[0]\n",
        "  while opcao not in \"nNsS\":\n",
        "    opcao = input(\"Erro!!! Informe s/sim ou n/não: \")\n",
        "  \n",
        "  if opcao in \"nN\":\n",
        "    break\n",
        "  \n",
        "  salario = float(input(\"Informe seu salário:: \"))\n",
        "\n",
        "  if salario > 1200:\n",
        "    print(\"Você precisa pagar seu imposto!\")\n",
        "  else:\n",
        "    print(\"Você não precisa pagar imposto!\")\n",
        "  print(\"Obrigado!\")\n",
        "  print(\"A receita federal agradece!\")\n",
        "  input(\"Aperte enter para continuar\")\n",
        "\n",
        "print(\"FIM\")"
      ]
    },
    {
      "cell_type": "code",
      "execution_count": 2,
      "metadata": {
        "colab": {
          "base_uri": "https://localhost:8080/"
        },
        "id": "qZMpCauj7Y2S",
        "outputId": "fd227a8a-955e-461a-b51b-55a3ea73d102"
      },
      "outputs": [
        {
          "name": "stdout",
          "output_type": "stream",
          "text": [
            "ok\n",
            "Infome um número inteiro:: 4\n",
            "Informe um segundo numero inteiro:: 5\n",
            "Informe um número real:: 6\n",
            "= = = = = = = = = = = = = = = = = = = = \n",
            "Letra A\n",
            "(2 X 4) X (2.5) = 20.0\n",
            "= = = = = = = = = = = = = = = = = = = = \n",
            "Letra B\n",
            "3 X 4 + 6.0 = 18.0\n",
            "= = = = = = = = = = = = = = = = = = = = \n",
            "Letra C\n",
            "6.0^3 = 216.0\n",
            "= = = = = = = = = = = = = = = = = = = = \n"
          ]
        }
      ],
      "source": [
        "\"\"\"\n",
        "3 - Escreva um programa que solicite 2 números inteiros e 1 número real. Calcule e\n",
        "imprima:\n",
        "a) o produto do dobro do primeiro número com a metade do segundo número.\n",
        "b) a soma do triplo do primeiro número com o terceiro número.\n",
        "c) o terceiro número elevado ao cubo.\n",
        "\"\"\"\n",
        "print(\"ok\")\n",
        "from os import system\n",
        "from sys import platform as SO\n",
        "\n",
        "if SO == \"linux\" or SO == \"linux2\":\n",
        "    system(\"clear\")\n",
        "elif SO == \"win32\":\n",
        "    system(\"cls\")\n",
        "\n",
        "primeiroNumeroInteiro = int(input(\"Infome um número inteiro:: \"))         \n",
        "segundoNumeroInteiro = int(input(\"Informe um segundo numero inteiro:: \")) \n",
        "numeroReal = float(input(\"Informe um número real:: \"))                    \n",
        "\n",
        "print(20 * \"= \")\n",
        "print(\"Letra A\")\n",
        "print(f\"(2 X {primeiroNumeroInteiro}) X ({segundoNumeroInteiro / 2}) = {(2 * primeiroNumeroInteiro) * (segundoNumeroInteiro / 2)}\")\n",
        "\n",
        "print(20 * \"= \")\n",
        "print(\"Letra B\")\n",
        "print(f\"3 X {primeiroNumeroInteiro} + {numeroReal} = {3 * primeiroNumeroInteiro + numeroReal}\")\n",
        "\n",
        "print(20 * \"= \")\n",
        "print(\"Letra C\")\n",
        "print(f\"{numeroReal}^3 = {numeroReal ** 3}\")\n",
        "\n",
        "print(20 * \"= \")"
      ]
    },
    {
      "cell_type": "code",
      "execution_count": 11,
      "metadata": {
        "colab": {
          "base_uri": "https://localhost:8080/"
        },
        "id": "C0n68pZc6tzi",
        "outputId": "a5890517-5b0d-484c-c30f-66d707fd9a2b"
      },
      "outputs": [
        {
          "name": "stdout",
          "output_type": "stream",
          "text": [
            "Quanto você recebe por hora trabalhada:: 1000\n",
            "Quantas horas você trabalha no mês:: 40\n",
            "Seu salário bruto é: $40,000.00!\n",
            "Você pagou ao INSS 8% do seu salário bruto que vale $3,200.00!\n",
            "Você pagou 5% ao sindicato que vale a $2,000.00!\n",
            "Seu salario líquido é: $30,400.00!\n",
            "Você pagou 11% de Imposto de renda que vale a $4,400.00!\n"
          ]
        }
      ],
      "source": [
        "\"\"\"\n",
        "4 - Escreva um programa que pergunte quanto você ganha por hora e o número de horas\n",
        "trabalhadas no mês. Desta forma, calcule e imprima o total do seu salário no referido\n",
        "mês, sabendo-se que são descontados 11% para o Imposto de Renda, 8% para o INSS e\n",
        "5% para o sindicato, faça um programa que nos dê (imprima):\n",
        "a) salário bruto.\n",
        "b) quanto pagou ao INSS.\n",
        "c) quanto pagou ao sindicato.\n",
        "d) o salário líquido.\n",
        "e) calcule os descontos.\n",
        "\"\"\"\n",
        "from os import system\n",
        "from sys import platform as SO\n",
        "import locale\n",
        "\n",
        "if SO == \"linux\" or SO == \"linux2\":\n",
        "    system(\"clear\")\n",
        "    local = locale.getlocale()\n",
        "    locale.setlocale(locale.LC_MONETARY, local)\n",
        "elif SO == \"win32\":\n",
        "    system(\"cls\")\n",
        "    local = locale.getlocale()\n",
        "    locale.setlocale(locale.LC_MONETARY, local)\n",
        "else:\n",
        "    print(\"Erro!!!\")\n",
        "\n",
        "salarioPorHora = float(input(\"Quanto você recebe por hora trabalhada:: \"))\n",
        "horasTrabalho = int(input(\"Quantas horas você trabalha no mês:: \"))\n",
        "\n",
        "salarioNoMes = salarioPorHora * horasTrabalho\n",
        "inss = salarioNoMes * 0.08\n",
        "sindicato = salarioNoMes * 0.05\n",
        "impostoDeRenda = salarioNoMes * 0.11\n",
        "salarioLiquido = salarioNoMes - inss - sindicato - impostoDeRenda\n",
        "\n",
        "salarioNoMes = locale.currency(salarioNoMes, grouping=True)\n",
        "inss = locale.currency(inss, grouping=True)\n",
        "sindicato = locale.currency(sindicato, grouping=True)\n",
        "impostoDeRenda = locale.currency(impostoDeRenda, grouping=True)\n",
        "salarioLiquido = locale.currency(salarioLiquido, grouping=True)\n",
        "\n",
        "print(f\"Seu salário bruto é: {salarioNoMes}!\")\n",
        "print(f\"Você pagou ao INSS 8% do seu salário bruto que vale {inss}!\")\n",
        "print(f\"Você pagou 5% ao sindicato que vale a {sindicato}!\")\n",
        "print(f\"Seu salario líquido é: {salarioLiquido}!\")\n",
        "print(f\"Você pagou 11% de Imposto de renda que vale a {impostoDeRenda}!\")\n"
      ]
    },
    {
      "cell_type": "code",
      "execution_count": 14,
      "metadata": {
        "colab": {
          "base_uri": "https://localhost:8080/"
        },
        "id": "_y4DS_WrdXyH",
        "outputId": "045d8f8a-4c5e-4cd0-8f4b-d6a63fd0c9f5"
      },
      "outputs": [
        {
          "name": "stdout",
          "output_type": "stream",
          "text": [
            "Informe seu salário atual:: 12345\n",
            "Informe a porcetagem de aumento salarial:: 12\n",
            "O aumento do salário foi de:: $1,481.40!\n",
            "O novo salário do funcionário é:: $13,826.40!\n"
          ]
        }
      ],
      "source": [
        "\"\"\"\n",
        "5 - Escreva um programa que calcule o aumento de um salário. Ele deve solicitar o valor do\n",
        "salário e a porcentagem do aumento. Imprima o valor do aumento e do novo salário.\n",
        "\"\"\"\n",
        "from os import system\n",
        "from sys import platform as SO\n",
        "import locale\n",
        "\n",
        "\n",
        "if SO == \"linux\" or SO == \"linux2\":\n",
        "    system(\"clear\")\n",
        "    local = locale.getlocale()\n",
        "    locale.setlocale(locale.LC_MONETARY, local)\n",
        "elif SO == \"win32\":\n",
        "    system(\"cls\")\n",
        "    local = locale.getlocale()\n",
        "    locale.setlocale(locale.LC_MONETARY, local)\n",
        "else:\n",
        "    print(\"Erro!!!\")\n",
        "\n",
        "\n",
        "salarioAtual = float(input(\"Informe seu salário atual:: \"))\n",
        "porcetagemAumento = float(input(\"Informe a porcetagem de aumento salarial:: \"))\n",
        "aumento = salarioAtual * porcetagemAumento / 100\n",
        "salarioNovo = aumento + salarioAtual\n",
        "\n",
        "aumento = locale.currency(aumento, grouping=True)\n",
        "salarioNovo = locale.currency(salarioNovo, grouping=True)\n",
        "\n",
        "print(f\"O aumento do salário foi de:: {aumento}!\")\n",
        "print(f\"O novo salário do funcionário é:: {salarioNovo}!\")\n",
        "\n"
      ]
    },
    {
      "cell_type": "code",
      "execution_count": 15,
      "metadata": {
        "colab": {
          "base_uri": "https://localhost:8080/"
        },
        "id": "An9p3xbY_eIo",
        "outputId": "2166fb01-004f-424d-8ad1-87e8b3170159"
      },
      "outputs": [
        {
          "name": "stdout",
          "output_type": "stream",
          "text": [
            "Informe o dia do Mes que você saiu de férias:: 4\n",
            "Informe o dia da semana que você saiu de féiras:: quarta-feira\n",
            "Você terá umas férias maravilhosas que começam no dia 4, quarta-feira e retornar\n",
            "das suas férias depois de 45 noites.\n"
          ]
        }
      ],
      "source": [
        "\"\"\"\n",
        "Escreva um programa que pede o dia do mês e o dia da semana em que você irá entrar\n",
        "de férias e exibe o dia da semana que você voltará a trabalhar. Exemplo, você terá umas\n",
        "férias maravilhosas que começam no dia 3, quarta-feira e retornará das suas férias\n",
        "depois de 137 noites.\n",
        "\"\"\"\n",
        "from os import system\n",
        "from sys import platform as SO\n",
        "from random import randint as ferias\n",
        "\n",
        "if SO == \"linux\" or SO == \"linux2\":\n",
        "    system(\"clear\")\n",
        "elif SO == \"win32\":\n",
        "    system(\"cls\")\n",
        "else:\n",
        "    print(\"Erro!!!\")\n",
        "\n",
        "diaDoMes = int(input(\"Informe o dia do Mes que você saiu de férias:: \"))\n",
        "diaSemana = input(\"Informe o dia da semana que você saiu de féiras:: \")\n",
        "diasDeFerias = ferias(30, 120)\n",
        "\n",
        "print(f\"\"\"Você terá umas férias maravilhosas que começam no dia {diaDoMes}, {diaSemana} e retornar\n",
        "das suas férias depois de {diasDeFerias} noites.\"\"\")\n"
      ]
    },
    {
      "cell_type": "code",
      "execution_count": 16,
      "metadata": {
        "colab": {
          "base_uri": "https://localhost:8080/"
        },
        "id": "QmTXW8uNAwNK",
        "outputId": "455ef1fa-e268-4d83-b8de-40a182ca9c33"
      },
      "outputs": [
        {
          "name": "stdout",
          "output_type": "stream",
          "text": [
            "Informe uma primeira string:: lucas\n",
            "Informe uma segundo string::: maria\n",
            "==================================================\n",
            "Informando o conteúdo: \n",
            "O contéudo da primeira string é lucas\n",
            "O contéudo da segunda  string é maria\n",
            "==================================================\n",
            "Informando o tamanho das strings\n",
            "A primeira string, 'lucas', tem um tamanho de 5 caracteres.\n",
            "A primeira string, 'maria', tem um tamanho de 5 caracteres.\n",
            "==================================================\n",
            "O tamanho das duas strings é igual\n",
            "==================================================\n",
            "O conteúdo das duas strings é diferente\n",
            "==================================================\n"
          ]
        }
      ],
      "source": [
        "\"\"\"\n",
        "7 - Escreva um programa que leia 2 strings e informe o conteúdo e o comprimento de cada\n",
        "uma delas. Informe também se as duas strings possuem o mesmo comprimento e se\n",
        "apresentam o mesmo conteúdo.\n",
        "\"\"\"\n",
        "from os import system\n",
        "from sys import platform as SO\n",
        "\n",
        "if SO == \"linux\" or SO == \"linux2\":\n",
        "    system(\"clear\")\n",
        "elif SO == \"win32\":\n",
        "    system(\"cls\")\n",
        "else:\n",
        "    print(\"Erro!!!\")\n",
        "\n",
        "leituraString1 = input(\"Informe uma primeira string:: \").strip().lower()\n",
        "leituraString2 = input(\"Informe uma segundo string::: \").strip().lower()\n",
        "tamanhoString1 = len(leituraString1)\n",
        "tamanhoString2 = len(leituraString2)\n",
        "\n",
        "\n",
        "print(50 * \"=\")\n",
        "print(\"Informando o conteúdo: \")\n",
        "print(f\"O contéudo da primeira string é {leituraString1}\")\n",
        "print(f\"O contéudo da segunda  string é {leituraString2}\")\n",
        "\n",
        "print(50 * \"=\")\n",
        "print(\"Informando o tamanho das strings\")\n",
        "print(f\"A primeira string, '{leituraString1}', tem um tamanho de {tamanhoString1} caracteres.\")\n",
        "print(f\"A primeira string, '{leituraString2}', tem um tamanho de {len(leituraString2)} caracteres.\")\n",
        "\n",
        "print(50 * \"=\")\n",
        "tamanhoString = \"igual\" if tamanhoString1 == tamanhoString2 else \"diferente\"\n",
        "print(f\"O tamanho das duas strings é {tamanhoString}\")\n",
        "\n",
        "print(50 * \"=\")\n",
        "conteudoString = \"igual\" if leituraString1 == leituraString2 else \"diferente\"\n",
        "print(f\"O conteúdo das duas strings é {conteudoString}\")\n",
        "print(50 * \"=\")\n"
      ]
    },
    {
      "cell_type": "code",
      "execution_count": 18,
      "metadata": {
        "colab": {
          "base_uri": "https://localhost:8080/"
        },
        "id": "wtsOiwF-BQHM",
        "outputId": "7b50ca10-4c27-49fb-c24e-e2ed7cf3fff0"
      },
      "outputs": [
        {
          "name": "stdout",
          "output_type": "stream",
          "text": [
            "Insira algum elemento na pilha de pratos.\n",
            "Informe um elemento numerico: 2\n",
            "Elemento 2 na posição 0\n",
            "Deseja continuar inserindo ou removendo ? Digite S[sim] outra letra sai do programa.s\n",
            "Voce deseja inserir algum elemento: s\n",
            "Informe um elemento numerico: 4\n",
            "Elemento 2 na posição 0\n",
            "Elemento 4 na posição 1\n",
            "Voce deseja remover algum elemento ou digite qualquer tecla para continuar: s\n",
            "Elemento 4 na posição 0\n",
            "Deseja continuar inserindo ou removendo ? Digite S[sim] outra letra sai do programa.n\n"
          ]
        }
      ],
      "source": [
        "\"\"\"\n",
        "8 - Usando o conceito de lista:\n",
        "a. Faça uma lista que simule uma pilha de pratos.\n",
        "b. Faça uma lista que simule uma fila de um banco.\n",
        "\"\"\"\n",
        "from os import system\n",
        "from sys import platform as SO\n",
        "\n",
        "if SO == \"linux\" or SO == \"linux2\":\n",
        "    system(\"clear\")\n",
        "elif SO == \"win32\":\n",
        "    system(\"cls\")\n",
        "else:\n",
        "    print(\"Erro!!!\")\n",
        "\n",
        "banco = []\n",
        "\n",
        "while True:\n",
        "    if len(banco) == 0:\n",
        "        print(\"Insira algum elemento na pilha de pratos.\")\n",
        "        banco.append(int(input(\"Informe um elemento numerico: \")))\n",
        "        for k,v in enumerate(banco):\n",
        "            print(f\"Elemento {v} na posição {k}\")\n",
        "    else:\n",
        "        opcao = input(\"Voce deseja inserir algum elemento: \")\n",
        "        if opcao in \"Ss\":\n",
        "            banco.append(int(input(\"Informe um elemento numerico: \")))\n",
        "            for k,v in enumerate(banco):\n",
        "                print(f\"Elemento {v} na posição {k}\")\n",
        "    \n",
        "        if len(banco) >= 1:\n",
        "            opcao = input(\"Voce deseja remover algum elemento ou digite qualquer tecla para continuar: \")\n",
        "            if opcao in \"Ss\":\n",
        "                banco.pop(0)\n",
        "            \n",
        "            for k,v in enumerate(banco):\n",
        "                print(f\"Elemento {v} na posição {k}\")\n",
        "\n",
        "    sair = input(\"Deseja continuar inserindo ou removendo ? Digite S[sim] outra letra sai do programa.\").strip()[0].upper()\n",
        "    if sair != \"S\":\n",
        "        break\n"
      ]
    },
    {
      "cell_type": "code",
      "execution_count": null,
      "metadata": {
        "id": "IckUUmCbCjCi"
      },
      "outputs": [],
      "source": [
        "\"\"\"\n",
        "FILA - Segunda Resolução\n",
        "\"\"\"\n",
        "from collections import deque\n",
        "from os import system\n",
        "from sys import platform as SO\n",
        "\n",
        "if SO == \"linux\" or SO == \"linux2\":\n",
        "    system(\"clear\")\n",
        "elif SO == \"win32\":\n",
        "    system(\"cls\")\n",
        "else:\n",
        "    print(\"Erro!!!\")\n",
        "\n",
        "queue = deque([1, 2,  3, 4, 5])\n",
        "print(queue)\n",
        "queue.append(6)\n",
        "print(queue)\n",
        "queue.popleft()\n",
        "print(queue)\n",
        "queue.popleft()\n",
        "print(queue)\n"
      ]
    },
    {
      "cell_type": "code",
      "execution_count": null,
      "metadata": {
        "id": "uVTppYQRC9Zf"
      },
      "outputs": [],
      "source": [
        "\"\"\"PILHA - Resolução::: \"\"\"\n",
        "\n",
        "from collections import deque\n",
        "from os import system\n",
        "from sys import platform as SO\n",
        "\n",
        "if SO == \"linux\" or SO == \"linux2\":\n",
        "    system(\"clear\")\n",
        "elif SO == \"win32\":\n",
        "    system(\"cls\")\n",
        "else:\n",
        "    print(\"Erro!!!\")\n",
        "\n",
        "pratos = []\n",
        "\n",
        "while True:\n",
        "    linux(\"clear\")\n",
        "    if len(pratos) == 0:\n",
        "        print(\"Insira algum elemento na pilha de pratos.\")\n",
        "        pratos.append(int(input(\"Informe um elemento numerico: \")))\n",
        "        for k,v in enumerate(pratos):\n",
        "            print(f\"Elemento {v} na posição {k}\")\n",
        "    else:\n",
        "        opcao = input(\"Voce deseja inserir algum elemento: \")\n",
        "        if opcao in \"Ss\":\n",
        "            pratos.append(int(input(\"Informe um elemento numerico: \")))\n",
        "            for k,v in enumerate(pratos):\n",
        "                print(f\"Elemento {v} na posição {k}\")\n",
        "    \n",
        "        if len(pratos) >= 1:\n",
        "            opcao = input(\"Voce deseja remover algum elemento ou digite qualquer tecla para continuar: \")\n",
        "            if opcao in \"Ss\":\n",
        "                pratos.pop()\n",
        "            \n",
        "            for k,v in enumerate(pratos):\n",
        "                print(f\"Elemento {v} na posição {k}\")\n",
        "\n",
        "    sair = input(\"Deseja continuar inserindo ou removendo ? Digite S[sim] outra letra sai do programa.\").strip()[0].upper()\n",
        "    if sair != \"S\":\n",
        "        break\n"
      ]
    },
    {
      "cell_type": "code",
      "execution_count": 33,
      "metadata": {
        "colab": {
          "base_uri": "https://localhost:8080/"
        },
        "id": "NbXLnsN7Dcii",
        "outputId": "1bbd9c70-bc23-4176-8b36-ce8c4485bf99"
      },
      "outputs": [
        {
          "name": "stdout",
          "output_type": "stream",
          "text": [
            "+ ---------- ---------- +\n",
            "  [1, 2, 3, 4, 5]\n",
            "  Adicionando elemento\n",
            "  [1, 2, 3, 4, 5, 6]\n",
            "  Removendo elemendo\n",
            "  [1, 2, 3, 4, 5]\n",
            "  Removendo elemento\n",
            "  [1, 2, 3, 4]\n",
            "+ ---------- ---------- +\n"
          ]
        }
      ],
      "source": [
        "\"\"\"PILHA - Segunda Resolução\"\"\"\n",
        "from os import system\n",
        "from sys import platform as SO\n",
        "\n",
        "if SO == \"linux\" or SO == \"linux2\":\n",
        "    system(\"clear\")\n",
        "elif SO == \"win32\":\n",
        "    system(\"cls\")\n",
        "else:\n",
        "    print(\"Erro!!!\")\n",
        "\n",
        "print(\"+ \" +10 * \"-\" + \" \" + 10 * \"-\" + \" +\")\n",
        "stack = [1, 2,  3, 4, 5]\n",
        "print(\" \",stack)\n",
        "\n",
        "print(\"  Adicionando elemento\")\n",
        "stack.append(6)\n",
        "print(\" \",stack)\n",
        "\n",
        "print(\"  Removendo elemendo\")\n",
        "stack.pop()\n",
        "print(\" \",stack)\n",
        "\n",
        "print(\"  Removendo elemento\")\n",
        "stack.pop()\n",
        "print(\" \",stack)\n",
        "\n",
        "print(\"+ \" +10 * \"-\" + \" \" + 10 * \"-\" + \" +\")\n"
      ]
    }
  ],
  "metadata": {
    "colab": {
      "name": "Lista1.ipynb",
      "provenance": []
    },
    "interpreter": {
      "hash": "67d1bc666db819c5d4531cfbb2a45e55ecf4b175539248574842460daf230290"
    },
    "kernelspec": {
      "display_name": "Python 3.8.8 64-bit ('base': conda)",
      "name": "python3"
    },
    "language_info": {
      "codemirror_mode": {
        "name": "ipython",
        "version": 3
      },
      "file_extension": ".py",
      "mimetype": "text/x-python",
      "name": "python",
      "nbconvert_exporter": "python",
      "pygments_lexer": "ipython3",
      "version": "3.8.8"
    }
  },
  "nbformat": 4,
  "nbformat_minor": 0
}
